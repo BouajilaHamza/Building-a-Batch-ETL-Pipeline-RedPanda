{
 "cells": [
  {
   "cell_type": "code",
   "execution_count": null,
   "metadata": {},
   "outputs": [],
   "source": [
    "import os\n",
    "import snowflake.connector\n",
    "\n",
    "SNOWFLAKE_USERNAME = os.getenv(\"SNOWFLAKE_USERNAME\")\n",
    "SNOWFLAKE_PASSWORD = os.getenv(\"SNOWFLAKE_PASSWORD\")\n",
    "SNOWFLAKE_ACCOUNT = os.getenv(\"SNOWFLAKE_ACCOUNT\")"
   ]
  },
  {
   "cell_type": "code",
   "execution_count": null,
   "metadata": {},
   "outputs": [],
   "source": [
    "class SnowflakeLoader:\n",
    "    def __init__(self):\n",
    "        self.conn = snowflake.connector.connect(\n",
    "            user=SNOWFLAKE_USERNAME,\n",
    "            password=SNOWFLAKE_PASSWORD,\n",
    "            account=SNOWFLAKE_ACCOUNT,\n",
    "        )\n",
    "        self.cursor = self.conn.cursor()\n",
    "\n",
    "    def clean_data(self, raw_data):\n",
    "        raise NotImplementedError(\"This method should be overridden by subclasses\")\n",
    "\n",
    "    def load_data(self, data):\n",
    "        raise NotImplementedError(\"This method should be overridden by subclasses\")\n",
    "\n",
    "    def close_connection(self):\n",
    "        self.conn.close()\n",
    "\n",
    "\n",
    "class NewsDataLoader(SnowflakeLoader):\n",
    "    def clean_data(self, raw_data):\n",
    "        # Perform specific data cleaning and transformation\n",
    "        # cleaned_data = []\n",
    "        # for record in raw_data:\n",
    "        #     cleaned_record = {\n",
    "        #         'field1': record['field1'].upper(),\n",
    "        #         'field2': record['field2'].strip()\n",
    "        #     }\n",
    "        #     cleaned_data.append(cleaned_record)\n",
    "        return [raw_data]\n",
    "\n",
    "    def load_data(self, data):\n",
    "        cleaned_data = self.clean_data(data)\n",
    "        for record in cleaned_data:\n",
    "            self.cursor.execute(\"CREATE DATABASE IF NOT EXISTS NewsDataDatabase\")\n",
    "            self.cursor.execute(\n",
    "                \"CREATE TABLE IF NOT EXISTS NewsData (field1 VARCHAR(255), field2 VARCHAR(255))\"\n",
    "            )\n",
    "            self.cursor.execute(\n",
    "                f\"INSERT INTO NewsData (field1, field2) VALUES ({1}, {2})\"\n",
    "            )"
   ]
  },
  {
   "cell_type": "code",
   "execution_count": 30,
   "metadata": {},
   "outputs": [],
   "source": [
    "news = NewsDataLoader()"
   ]
  },
  {
   "cell_type": "code",
   "execution_count": 31,
   "metadata": {},
   "outputs": [],
   "source": [
    "data = {\n",
    "    \"field1\": [\"A\", \"B\", \"C\"],\n",
    "    \"field2\": [\"1\", \"2\", \"3\"],\n",
    "}"
   ]
  },
  {
   "cell_type": "code",
   "execution_count": 32,
   "metadata": {},
   "outputs": [],
   "source": [
    "news.load_data(data)"
   ]
  },
  {
   "cell_type": "code",
   "execution_count": null,
   "metadata": {},
   "outputs": [],
   "source": []
  }
 ],
 "metadata": {
  "kernelspec": {
   "display_name": "building-a-batch-etl-pipeline-redpanda-KlGOoUI0-py3.12",
   "language": "python",
   "name": "python3"
  },
  "language_info": {
   "codemirror_mode": {
    "name": "ipython",
    "version": 3
   },
   "file_extension": ".py",
   "mimetype": "text/x-python",
   "name": "python",
   "nbconvert_exporter": "python",
   "pygments_lexer": "ipython3",
   "version": "3.12.3"
  }
 },
 "nbformat": 4,
 "nbformat_minor": 2
}
