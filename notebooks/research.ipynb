{
 "cells": [
  {
   "cell_type": "code",
   "execution_count": 14,
   "metadata": {},
   "outputs": [],
   "source": [
    "import quixstreams as qx\n",
    "\n",
    "REDPANDA_TOPIC = \"StreamingApp\"\n",
    "\n",
    "\n",
    "class RedpandaInitializer:\n",
    "    def __init__(self):\n",
    "        self.logger = print(\"RedpandaInitializer\")\n",
    "        self.app = qx.Application(\n",
    "            broker_address=\"localhost:9092\",\n",
    "            consumer_group=\"StreamingAppGroup\",\n",
    "            loglevel=\"DEBUG\",\n",
    "        )\n",
    "        self.topic = self.app.topic(REDPANDA_TOPIC, value_deserializer=\"json\")"
   ]
  },
  {
   "cell_type": "code",
   "execution_count": 30,
   "metadata": {},
   "outputs": [],
   "source": [
    "class RedpandaConsumer(RedpandaInitializer):\n",
    "    def __init__(self):\n",
    "        super().__init__()\n",
    "        self.logger = print(\"RedpandaConsumer\")\n",
    "\n",
    "    def consume_data(self):\n",
    "        # Create a Consumer instance\n",
    "        with self.app.get_consumer() as consumer:\n",
    "            # List all topics and partitions\n",
    "            topics = consumer.list_topics().topics\n",
    "            print(\"Available Topics and Partitions:\")\n",
    "            for topic, metadata in topics.items():\n",
    "                print(f\"Topic: {topic}\")\n",
    "                partitions = metadata.partitions.keys()\n",
    "                print(f\"Partitions: {list(partitions)}\")\n",
    "\n",
    "            # Check if the specific topic exists\n",
    "            if self.topic.name not in topics:\n",
    "                print(f\"Error: Topic '{self.topic}' does not exist.\")\n",
    "                return\n",
    "\n",
    "            print(\n",
    "                f\"Subscribing to topic: {self.topic.name} with partitions: {list(topics[self.topic.name].partitions.keys())}\"\n",
    "            )\n",
    "            consumer.subscribe([self.topic.name])\n",
    "            print(consumer.consumer_group_metadata())\n",
    "\n",
    "            while True:\n",
    "                message = consumer.poll(timeout=5)\n",
    "                if message is None:\n",
    "                    print(\"Waiting ...\")\n",
    "                elif message.error() is not None:\n",
    "                    print(f\"Error: {message.error()}\")\n",
    "                else:\n",
    "                    print(\n",
    "                        f\"Received message: Key: {message.key()} \\t Value: {message.value()}\"\n",
    "                    )"
   ]
  },
  {
   "cell_type": "code",
   "execution_count": 31,
   "metadata": {},
   "outputs": [
    {
     "name": "stdout",
     "output_type": "stream",
     "text": [
      "RedpandaInitializer\n",
      "RedpandaConsumer\n"
     ]
    }
   ],
   "source": [
    "consumer = RedpandaConsumer()"
   ]
  },
  {
   "cell_type": "code",
   "execution_count": 32,
   "metadata": {},
   "outputs": [
    {
     "name": "stderr",
     "output_type": "stream",
     "text": [
      "[2024-11-29 07:49:03,271] [INFO] [quixstreams] : Topics required for this application: \"StreamingApp\"\n",
      "[2024-11-29 07:49:03,275] [INFO] [quixstreams] : Validating Kafka topics exist and are configured correctly...\n",
      "[2024-11-29 07:49:03,281] [INFO] [quixstreams] : Kafka topics validation complete\n"
     ]
    },
    {
     "name": "stdout",
     "output_type": "stream",
     "text": [
      "Available Topics and Partitions:\n",
      "Topic: _schemas\n",
      "Partitions: [0]\n",
      "Topic: chat-room\n",
      "Partitions: [0]\n",
      "Topic: my_topic\n",
      "Partitions: [0]\n",
      "Topic: StreamingApp\n",
      "Partitions: [0]\n",
      "Topic: __consumer_offsets\n",
      "Partitions: [0, 1, 2]\n",
      "Subscribing to topic: StreamingApp with partitions: [0]\n",
      "b'CGMDv2:\\xff\\xff\\xff\\xffStreamingAppGroup\\x00\\x00\\x01'\n",
      "Waiting ...\n",
      "Waiting ...\n",
      "Waiting ...\n",
      "Waiting ...\n",
      "Waiting ...\n",
      "Received message: Key: b'1' \t Value: b'\"test\"'\n",
      "Received message: Key: b'1' \t Value: b'\"test\"'\n",
      "Received message: Key: b'1' \t Value: b'\"test\"'\n",
      "Received message: Key: b'1' \t Value: b'\"test\"'\n",
      "Received message: Key: b'1' \t Value: b'\"test\"'\n",
      "Received message: Key: b'1' \t Value: b'\"test\"'\n"
     ]
    },
    {
     "ename": "KeyboardInterrupt",
     "evalue": "",
     "output_type": "error",
     "traceback": [
      "\u001b[0;31m---------------------------------------------------------------------------\u001b[0m",
      "\u001b[0;31mKeyboardInterrupt\u001b[0m                         Traceback (most recent call last)",
      "Cell \u001b[0;32mIn[32], line 1\u001b[0m\n\u001b[0;32m----> 1\u001b[0m \u001b[43mconsumer\u001b[49m\u001b[38;5;241;43m.\u001b[39;49m\u001b[43mconsume_data\u001b[49m\u001b[43m(\u001b[49m\u001b[43m)\u001b[49m\n",
      "Cell \u001b[0;32mIn[30], line 29\u001b[0m, in \u001b[0;36mRedpandaConsumer.consume_data\u001b[0;34m(self)\u001b[0m\n\u001b[1;32m     26\u001b[0m \u001b[38;5;28mprint\u001b[39m(consumer\u001b[38;5;241m.\u001b[39mconsumer_group_metadata())\n\u001b[1;32m     28\u001b[0m \u001b[38;5;28;01mwhile\u001b[39;00m \u001b[38;5;28;01mTrue\u001b[39;00m:\n\u001b[0;32m---> 29\u001b[0m     message \u001b[38;5;241m=\u001b[39m \u001b[43mconsumer\u001b[49m\u001b[38;5;241;43m.\u001b[39;49m\u001b[43mpoll\u001b[49m\u001b[43m(\u001b[49m\u001b[43mtimeout\u001b[49m\u001b[38;5;241;43m=\u001b[39;49m\u001b[38;5;241;43m5\u001b[39;49m\u001b[43m)\u001b[49m\n\u001b[1;32m     30\u001b[0m     \u001b[38;5;28;01mif\u001b[39;00m message \u001b[38;5;129;01mis\u001b[39;00m \u001b[38;5;28;01mNone\u001b[39;00m:\n\u001b[1;32m     31\u001b[0m         \u001b[38;5;28mprint\u001b[39m(\u001b[38;5;124m\"\u001b[39m\u001b[38;5;124mWaiting ...\u001b[39m\u001b[38;5;124m\"\u001b[39m)\n",
      "File \u001b[0;32m~/.cache/pypoetry/virtualenvs/building-a-batch-etl-pipeline-redpanda-KlGOoUI0-py3.12/lib/python3.12/site-packages/quixstreams/kafka/consumer.py:148\u001b[0m, in \u001b[0;36mConsumer.poll\u001b[0;34m(self, timeout)\u001b[0m\n\u001b[1;32m    131\u001b[0m \u001b[38;5;28;01mdef\u001b[39;00m \u001b[38;5;21mpoll\u001b[39m(\u001b[38;5;28mself\u001b[39m, timeout: Optional[\u001b[38;5;28mfloat\u001b[39m] \u001b[38;5;241m=\u001b[39m \u001b[38;5;28;01mNone\u001b[39;00m) \u001b[38;5;241m-\u001b[39m\u001b[38;5;241m>\u001b[39m Optional[Message]:\n\u001b[1;32m    132\u001b[0m \u001b[38;5;250m    \u001b[39m\u001b[38;5;124;03m\"\"\"\u001b[39;00m\n\u001b[1;32m    133\u001b[0m \u001b[38;5;124;03m    Consumes a single message, calls callbacks and returns events.\u001b[39;00m\n\u001b[1;32m    134\u001b[0m \n\u001b[0;32m   (...)\u001b[0m\n\u001b[1;32m    146\u001b[0m \u001b[38;5;124;03m    :raises RuntimeError: if called on a closed consumer\u001b[39;00m\n\u001b[1;32m    147\u001b[0m \u001b[38;5;124;03m    \"\"\"\u001b[39;00m\n\u001b[0;32m--> 148\u001b[0m     \u001b[38;5;28;01mreturn\u001b[39;00m \u001b[38;5;28;43mself\u001b[39;49m\u001b[38;5;241;43m.\u001b[39;49m\u001b[43m_consumer\u001b[49m\u001b[38;5;241;43m.\u001b[39;49m\u001b[43mpoll\u001b[49m\u001b[43m(\u001b[49m\u001b[43mtimeout\u001b[49m\u001b[38;5;241;43m=\u001b[39;49m\u001b[43mtimeout\u001b[49m\u001b[43m \u001b[49m\u001b[38;5;28;43;01mif\u001b[39;49;00m\u001b[43m \u001b[49m\u001b[43mtimeout\u001b[49m\u001b[43m \u001b[49m\u001b[38;5;129;43;01mis\u001b[39;49;00m\u001b[43m \u001b[49m\u001b[38;5;129;43;01mnot\u001b[39;49;00m\u001b[43m \u001b[49m\u001b[38;5;28;43;01mNone\u001b[39;49;00m\u001b[43m \u001b[49m\u001b[38;5;28;43;01melse\u001b[39;49;00m\u001b[43m \u001b[49m\u001b[38;5;241;43m-\u001b[39;49m\u001b[38;5;241;43m1\u001b[39;49m\u001b[43m)\u001b[49m\n",
      "\u001b[0;31mKeyboardInterrupt\u001b[0m: "
     ]
    }
   ],
   "source": [
    "consumer.consume_data()"
   ]
  },
  {
   "cell_type": "code",
   "execution_count": null,
   "metadata": {},
   "outputs": [],
   "source": []
  }
 ],
 "metadata": {
  "kernelspec": {
   "display_name": "building-a-batch-etl-pipeline-redpanda-KlGOoUI0-py3.12",
   "language": "python",
   "name": "python3"
  },
  "language_info": {
   "codemirror_mode": {
    "name": "ipython",
    "version": 3
   },
   "file_extension": ".py",
   "mimetype": "text/x-python",
   "name": "python",
   "nbconvert_exporter": "python",
   "pygments_lexer": "ipython3",
   "version": "3.12.3"
  }
 },
 "nbformat": 4,
 "nbformat_minor": 2
}
