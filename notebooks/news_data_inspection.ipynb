{
 "cells": [
  {
   "cell_type": "code",
   "execution_count": 1,
   "metadata": {},
   "outputs": [
    {
     "data": {
      "text/plain": [
       "'/media/hamza/Disque local/Hamza Bouajila/Portfolio/Building-a-Batch-ETL-Pipeline-RedPanda/notebooks'"
      ]
     },
     "execution_count": 1,
     "metadata": {},
     "output_type": "execute_result"
    }
   ],
   "source": [
    "import os\n",
    "\n",
    "os.getcwd()"
   ]
  },
  {
   "cell_type": "code",
   "execution_count": 2,
   "metadata": {},
   "outputs": [
    {
     "data": {
      "text/plain": [
       "'/media/hamza/Disque local/Hamza Bouajila/Portfolio/Building-a-Batch-ETL-Pipeline-RedPanda'"
      ]
     },
     "execution_count": 2,
     "metadata": {},
     "output_type": "execute_result"
    }
   ],
   "source": [
    "os.chdir(\"../\")\n",
    "os.getcwd()"
   ]
  },
  {
   "cell_type": "code",
   "execution_count": 3,
   "metadata": {},
   "outputs": [],
   "source": [
    "from data_pipeline.src.core.config import settings\n",
    "import requests"
   ]
  },
  {
   "cell_type": "code",
   "execution_count": 4,
   "metadata": {},
   "outputs": [],
   "source": [
    "category = \"politics\"\n",
    "country = \"us\"\n",
    "url = f\"https://newsdata.io/api/1/latest?apikey={settings.NEWS_API_KEY}&category={category}&country={country}\"\n",
    "response = requests.get(url)"
   ]
  },
  {
   "cell_type": "code",
   "execution_count": 5,
   "metadata": {},
   "outputs": [
    {
     "data": {
      "text/plain": [
       "<Response [200]>"
      ]
     },
     "execution_count": 5,
     "metadata": {},
     "output_type": "execute_result"
    }
   ],
   "source": [
    "response"
   ]
  },
  {
   "cell_type": "code",
   "execution_count": 8,
   "metadata": {},
   "outputs": [
    {
     "data": {
      "text/plain": [
       "dict_keys(['status', 'totalResults', 'results', 'nextPage'])"
      ]
     },
     "execution_count": 8,
     "metadata": {},
     "output_type": "execute_result"
    }
   ],
   "source": [
    "response.json().keys()"
   ]
  },
  {
   "cell_type": "code",
   "execution_count": 17,
   "metadata": {},
   "outputs": [
    {
     "name": "stdout",
     "output_type": "stream",
     "text": [
      "Bill swap-outs make votes on legislation meaningless | Imagi 2025-01-03 07:15:00 Dailyadvance\n",
      "FSU’s Wafa Unus looks behind the bylines | Welco 2025-01-03 07:07:45 Lowellsun\n",
      "EDITORIAL: Back the Pack: Panthers a team to get behind | J.T.  2025-01-03 06:30:00 Lufkindailynews\n",
      "F.D. Flam: Black spatula saga shows the danger of hyping science | The s 2025-01-03 06:17:28 Twincities\n",
      "From Communism to Capitalism, strife to freedom, as the world changed | Artic 2025-01-03 06:15:00 Newspressnow\n",
      "Talking about 2024: highs, lows – and buffalos | Our f 2025-01-03 06:10:00 Leavenworthtimes\n",
      "Boys Basketball: Norte Vista 74, Scripps Ranch 53 | The B 2025-01-03 06:07:23 Fox 5 San Diego\n",
      "Death Notice: Wesley David Hussey | Husse 2025-01-03 06:01:01 Central Maine News\n",
      "Death Notice: Anthony W. Langlin | Langl 2025-01-03 06:01:01 Central Maine News\n",
      "Death Notice: Anita L. Paradis | Parad 2025-01-03 06:01:01 Lewiston Sun Journal\n"
     ]
    }
   ],
   "source": [
    "for new in response.json()[\"results\"]:\n",
    "    print(new[\"title\"], \"|\", new[\"description\"][:5], new[\"pubDate\"], new[\"source_name\"])"
   ]
  },
  {
   "cell_type": "code",
   "execution_count": 15,
   "metadata": {},
   "outputs": [
    {
     "data": {
      "text/plain": [
       "{'article_id': '542587b5772f38cf846fa4f12b6b04e3',\n",
       " 'title': 'Death Notice: Anita L. Paradis',\n",
       " 'link': 'https://www.sunjournal.com/2025/01/03/obituaryanita-l-paradis/',\n",
       " 'keywords': ['death notices'],\n",
       " 'creator': None,\n",
       " 'video_url': None,\n",
       " 'description': 'Paradis, Anita L. (Thibodeau) at home in Old Orchard Beach, on Dec. 29, 2024. Visit, Jan. 6, 10 to 10:45 a.m., ...',\n",
       " 'content': 'ONLY AVAILABLE IN PAID PLANS',\n",
       " 'pubDate': '2025-01-03 06:01:01',\n",
       " 'pubDateTZ': 'UTC',\n",
       " 'image_url': None,\n",
       " 'source_id': 'sunjournal',\n",
       " 'source_priority': 12472,\n",
       " 'source_name': 'Lewiston Sun Journal',\n",
       " 'source_url': 'https://www.sunjournal.com',\n",
       " 'source_icon': 'https://i.bytvi.com/domain_icons/sunjournal.jpg',\n",
       " 'language': 'english',\n",
       " 'country': ['united states of america'],\n",
       " 'category': ['politics'],\n",
       " 'ai_tag': 'ONLY AVAILABLE IN PROFESSIONAL AND CORPORATE PLANS',\n",
       " 'sentiment': 'ONLY AVAILABLE IN PROFESSIONAL AND CORPORATE PLANS',\n",
       " 'sentiment_stats': 'ONLY AVAILABLE IN PROFESSIONAL AND CORPORATE PLANS',\n",
       " 'ai_region': 'ONLY AVAILABLE IN CORPORATE PLANS',\n",
       " 'ai_org': 'ONLY AVAILABLE IN CORPORATE PLANS',\n",
       " 'duplicate': False}"
      ]
     },
     "execution_count": 15,
     "metadata": {},
     "output_type": "execute_result"
    }
   ],
   "source": [
    "new"
   ]
  },
  {
   "cell_type": "code",
   "execution_count": 20,
   "metadata": {},
   "outputs": [
    {
     "name": "stderr",
     "output_type": "stream",
     "text": [
      "[nltk_data] Downloading package stopwords to /home/hamza/nltk_data...\n",
      "[nltk_data]   Unzipping corpora/stopwords.zip.\n"
     ]
    }
   ],
   "source": [
    "import nltk\n",
    "\n",
    "nltk.download(\"stopwords\")\n",
    "nltk.download(\"punkt_tab\")\n",
    "nltk.download(\"wordnet\")"
   ]
  },
  {
   "cell_type": "code",
   "execution_count": null,
   "metadata": {},
   "outputs": [
    {
     "name": "stderr",
     "output_type": "stream",
     "text": [
      "[nltk_data] Downloading package wordnet to /home/hamza/nltk_data...\n"
     ]
    },
    {
     "data": {
      "text/plain": [
       "True"
      ]
     },
     "execution_count": 25,
     "metadata": {},
     "output_type": "execute_result"
    }
   ],
   "source": []
  },
  {
   "cell_type": "code",
   "execution_count": 29,
   "metadata": {},
   "outputs": [],
   "source": [
    "import re\n",
    "from nltk.corpus import stopwords\n",
    "from nltk.tokenize import word_tokenize\n",
    "from nltk.stem import WordNetLemmatizer\n",
    "# from nltk.stem import PorterStemmer, WordNetLemmatizer\n",
    "\n",
    "\n",
    "def clean_and_prepare_text(text):\n",
    "    # Remove punctuation and numbers\n",
    "    text = re.sub(r\"[^\\w\\s]\", \"\", text)\n",
    "    text = re.sub(r\"\\d+\", \"\", text)\n",
    "\n",
    "    # Convert to lowercase\n",
    "    text = text.lower()\n",
    "\n",
    "    # Remove stop words\n",
    "    stop_words = set(stopwords.words(\"english\"))\n",
    "    words = text.split()\n",
    "    filtered_words = [word for word in words if word not in stop_words]\n",
    "\n",
    "    # Tokenize\n",
    "    tokens = word_tokenize(\" \".join(filtered_words))\n",
    "\n",
    "    # Stemming and Lemmatization\n",
    "    # stemmer = PorterStemmer()\n",
    "    lemmatizer = WordNetLemmatizer()\n",
    "    # stemmed_words = [stemmer.stem(word) for word in tokens]\n",
    "    # print(stemmed_words)\n",
    "    lemmatized_words = [lemmatizer.lemmatize(word) for word in tokens]\n",
    "\n",
    "    # Remove extra whitespace\n",
    "    cleaned_text = \" \".join(lemmatized_words)\n",
    "\n",
    "    return cleaned_text"
   ]
  },
  {
   "cell_type": "code",
   "execution_count": 30,
   "metadata": {},
   "outputs": [
    {
     "name": "stdout",
     "output_type": "stream",
     "text": [
      "['paradi', 'anita', 'l', 'thibodeau', 'home', 'old', 'orchard', 'beach', 'dec', 'visit', 'jan']\n"
     ]
    },
    {
     "data": {
      "text/plain": [
       "'paradis anita l thibodeau home old orchard beach dec visit jan'"
      ]
     },
     "execution_count": 30,
     "metadata": {},
     "output_type": "execute_result"
    }
   ],
   "source": [
    "clean_and_prepare_text(new[\"description\"])"
   ]
  },
  {
   "cell_type": "code",
   "execution_count": 28,
   "metadata": {},
   "outputs": [
    {
     "data": {
      "text/plain": [
       "'Paradis, Anita L. (Thibodeau) at home in Old Orchard Beach, on Dec. 29, 2024. Visit, Jan. 6, 10 to 10:45 a.m., ...'"
      ]
     },
     "execution_count": 28,
     "metadata": {},
     "output_type": "execute_result"
    }
   ],
   "source": [
    "new[\"description\"]"
   ]
  },
  {
   "cell_type": "code",
   "execution_count": null,
   "metadata": {},
   "outputs": [],
   "source": []
  }
 ],
 "metadata": {
  "kernelspec": {
   "display_name": "building-a-batch-etl-pipeline-redpanda-KlGOoUI0-py3.12",
   "language": "python",
   "name": "python3"
  },
  "language_info": {
   "codemirror_mode": {
    "name": "ipython",
    "version": 3
   },
   "file_extension": ".py",
   "mimetype": "text/x-python",
   "name": "python",
   "nbconvert_exporter": "python",
   "pygments_lexer": "ipython3",
   "version": "3.12.3"
  }
 },
 "nbformat": 4,
 "nbformat_minor": 2
}
