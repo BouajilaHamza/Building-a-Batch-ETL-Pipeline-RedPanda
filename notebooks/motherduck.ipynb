{
 "cells": [
  {
   "cell_type": "code",
   "execution_count": 5,
   "metadata": {},
   "outputs": [
    {
     "data": {
      "text/plain": [
       "'/media/hamza/Disque local/Hamza Bouajila/Portfolio/Building-a-Batch-ETL-Pipeline-RedPanda'"
      ]
     },
     "execution_count": 5,
     "metadata": {},
     "output_type": "execute_result"
    }
   ],
   "source": [
    "import os\n",
    "\n",
    "os.getcwd()"
   ]
  },
  {
   "cell_type": "code",
   "execution_count": 3,
   "metadata": {},
   "outputs": [
    {
     "data": {
      "text/plain": [
       "'/media/hamza/Disque local/Hamza Bouajila/Portfolio/Building-a-Batch-ETL-Pipeline-RedPanda'"
      ]
     },
     "execution_count": 3,
     "metadata": {},
     "output_type": "execute_result"
    }
   ],
   "source": [
    "os.chdir(\"../\")\n",
    "os.getcwd()"
   ]
  },
  {
   "cell_type": "code",
   "execution_count": 6,
   "metadata": {},
   "outputs": [],
   "source": [
    "from data_pipeline.src.core.config import settings\n",
    "import duckdb\n",
    "\n",
    "# Initiate a MotherDuck connection using an access token\n",
    "con = duckdb.connect(f\"md:StreamingApp?motherduck_token={settings.MOTHERDUCK_TOKEN}\")"
   ]
  },
  {
   "cell_type": "code",
   "execution_count": 7,
   "metadata": {},
   "outputs": [
    {
     "data": {
      "text/plain": [
       "<duckdb.duckdb.DuckDBPyConnection at 0x75836bfc7870>"
      ]
     },
     "execution_count": 7,
     "metadata": {},
     "output_type": "execute_result"
    }
   ],
   "source": [
    "con"
   ]
  },
  {
   "cell_type": "code",
   "execution_count": 8,
   "metadata": {},
   "outputs": [
    {
     "name": "stdout",
     "output_type": "stream",
     "text": [
      "┌───────────────────────┐\n",
      "│     database_name     │\n",
      "│        varchar        │\n",
      "├───────────────────────┤\n",
      "│ StreamingApp          │\n",
      "│ md_information_schema │\n",
      "│ my_db                 │\n",
      "│ sample_data           │\n",
      "└───────────────────────┘\n",
      "\n"
     ]
    }
   ],
   "source": [
    "con.sql(\"SHOW DATABASES\").show()"
   ]
  },
  {
   "cell_type": "code",
   "execution_count": 9,
   "metadata": {},
   "outputs": [
    {
     "data": {
      "text/html": [
       "<div>\n",
       "<style scoped>\n",
       "    .dataframe tbody tr th:only-of-type {\n",
       "        vertical-align: middle;\n",
       "    }\n",
       "\n",
       "    .dataframe tbody tr th {\n",
       "        vertical-align: top;\n",
       "    }\n",
       "\n",
       "    .dataframe thead th {\n",
       "        text-align: right;\n",
       "    }\n",
       "</style>\n",
       "<table border=\"1\" class=\"dataframe\">\n",
       "  <thead>\n",
       "    <tr style=\"text-align: right;\">\n",
       "      <th></th>\n",
       "      <th>current_database()</th>\n",
       "    </tr>\n",
       "  </thead>\n",
       "  <tbody>\n",
       "    <tr>\n",
       "      <th>0</th>\n",
       "      <td>StreamingApp</td>\n",
       "    </tr>\n",
       "  </tbody>\n",
       "</table>\n",
       "</div>"
      ],
      "text/plain": [
       "  current_database()\n",
       "0       StreamingApp"
      ]
     },
     "execution_count": 9,
     "metadata": {},
     "output_type": "execute_result"
    }
   ],
   "source": [
    "con.sql(\"SELECT current_database()\").fetchdf()"
   ]
  },
  {
   "cell_type": "code",
   "execution_count": 18,
   "metadata": {},
   "outputs": [],
   "source": [
    "con.sql(\"USE main\")"
   ]
  },
  {
   "cell_type": "code",
   "execution_count": 14,
   "metadata": {},
   "outputs": [
    {
     "data": {
      "text/html": [
       "<div>\n",
       "<style scoped>\n",
       "    .dataframe tbody tr th:only-of-type {\n",
       "        vertical-align: middle;\n",
       "    }\n",
       "\n",
       "    .dataframe tbody tr th {\n",
       "        vertical-align: top;\n",
       "    }\n",
       "\n",
       "    .dataframe thead th {\n",
       "        text-align: right;\n",
       "    }\n",
       "</style>\n",
       "<table border=\"1\" class=\"dataframe\">\n",
       "  <thead>\n",
       "    <tr style=\"text-align: right;\">\n",
       "      <th></th>\n",
       "      <th>current_database()</th>\n",
       "    </tr>\n",
       "  </thead>\n",
       "  <tbody>\n",
       "    <tr>\n",
       "      <th>0</th>\n",
       "      <td>StreamingApp</td>\n",
       "    </tr>\n",
       "  </tbody>\n",
       "</table>\n",
       "</div>"
      ],
      "text/plain": [
       "  current_database()\n",
       "0       StreamingApp"
      ]
     },
     "execution_count": 14,
     "metadata": {},
     "output_type": "execute_result"
    }
   ],
   "source": [
    "con.sql(\"SELECT current_database()\").fetchdf()"
   ]
  },
  {
   "cell_type": "code",
   "execution_count": 12,
   "metadata": {},
   "outputs": [
    {
     "data": {
      "text/plain": [
       "┌─────────────┐\n",
       "│    name     │\n",
       "│   varchar   │\n",
       "├─────────────┤\n",
       "│ BitcoinData │\n",
       "│ Coin        │\n",
       "└─────────────┘"
      ]
     },
     "execution_count": 12,
     "metadata": {},
     "output_type": "execute_result"
    }
   ],
   "source": [
    "con.sql(\"SHOW TABLES\")"
   ]
  },
  {
   "cell_type": "code",
   "execution_count": 17,
   "metadata": {},
   "outputs": [],
   "source": [
    "# Check if table exists\n",
    "table_name = \"Coin\"\n",
    "table_exists = (\n",
    "    con.sql(\n",
    "        f\"SELECT COUNT(*) FROM information_schema.tables WHERE table_name = '{table_name}'\"\n",
    "    ).fetchone()[0]\n",
    "    > 0\n",
    ")\n",
    "\n",
    "if not table_exists:\n",
    "    # Create table if it does not exist\n",
    "    con.sql(f\"CREATE TABLE {table_name} (column1 VARCHAR, column2 VARCHAR)\")\n",
    "\n",
    "# Insert data into the table\n",
    "con.sql(f\"INSERT INTO {table_name} VALUES ('value1', 'value2')\")"
   ]
  },
  {
   "cell_type": "code",
   "execution_count": 11,
   "metadata": {},
   "outputs": [],
   "source": [
    "con.sql(\"\"\"\n",
    "            CREATE TABLE IF NOT EXISTS BitcoinData (\n",
    "                price VARCHAR(255),\n",
    "                volume_24h VARCHAR(255),\n",
    "                volume_change_24h VARCHAR(255),\n",
    "                percent_change_1h VARCHAR(255),\n",
    "                percent_change_24h VARCHAR(255),\n",
    "                percent_change_7d VARCHAR(255),\n",
    "                market_cap VARCHAR(255),\n",
    "                market_cap_dominance VARCHAR(255),\n",
    "                fully_diluted_market_cap VARCHAR(255),\n",
    "                last_updated VARCHAR(255)\n",
    "            );\n",
    "        \"\"\")"
   ]
  },
  {
   "cell_type": "code",
   "execution_count": null,
   "metadata": {},
   "outputs": [],
   "source": []
  }
 ],
 "metadata": {
  "kernelspec": {
   "display_name": "building-a-batch-etl-pipeline-redpanda-KlGOoUI0-py3.12",
   "language": "python",
   "name": "python3"
  },
  "language_info": {
   "codemirror_mode": {
    "name": "ipython",
    "version": 3
   },
   "file_extension": ".py",
   "mimetype": "text/x-python",
   "name": "python",
   "nbconvert_exporter": "python",
   "pygments_lexer": "ipython3",
   "version": "3.12.3"
  }
 },
 "nbformat": 4,
 "nbformat_minor": 2
}
