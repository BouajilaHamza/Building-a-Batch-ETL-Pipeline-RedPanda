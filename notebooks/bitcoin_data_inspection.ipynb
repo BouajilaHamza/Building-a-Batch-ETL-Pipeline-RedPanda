{
 "cells": [
  {
   "cell_type": "code",
   "execution_count": null,
   "metadata": {},
   "outputs": [],
   "source": [
    "import os\n",
    "from requests import Session\n",
    "from requests.exceptions import ConnectionError, Timeout, TooManyRedirects\n",
    "import pandas as pd\n",
    "import time\n",
    "\n",
    "COIN_MARKET_CAP_API_KEY = os.getenv(\"COIN_MARKET_CAP_API_KEY\")"
   ]
  },
  {
   "cell_type": "code",
   "execution_count": 7,
   "metadata": {},
   "outputs": [],
   "source": [
    "class DataIngestor:\n",
    "    def __init__(self):\n",
    "        print(\"DataIngestor\")\n",
    "        print(\"DataIngestor initialized\")\n",
    "\n",
    "    def fetch_data(self):\n",
    "        raise NotImplementedError(\"This method should be overridden by subclasses\")"
   ]
  },
  {
   "cell_type": "code",
   "execution_count": 8,
   "metadata": {},
   "outputs": [],
   "source": [
    "class CoinMarketCapIngestor(DataIngestor):\n",
    "    def __init__(self, start=1, limit=5000, convert=\"USD\"):\n",
    "        super().__init__()\n",
    "        self.headers = {\n",
    "            \"Accepts\": \"application/json\",\n",
    "            \"X-CMC_PRO_API_KEY\": COIN_MARKET_CAP_API_KEY,\n",
    "        }\n",
    "        self.session = Session()\n",
    "        self.session.headers.update(self.headers)\n",
    "        self.url = (\n",
    "            \"https://sandbox-api.coinmarketcap.com/v1/cryptocurrency/listings/latest\"\n",
    "        )\n",
    "        self.parameters = {\"start\": start, \"limit\": limit, \"convert\": convert}\n",
    "\n",
    "    def fetch_data(self):\n",
    "        try:\n",
    "            print(\"Fetching data from CoinMarketCap API\")\n",
    "            response = self.session.get(self.url, params=self.parameters)\n",
    "            response.raise_for_status()  # Check if the request was successful\n",
    "            data = response.json()  # Directly parse JSON response\n",
    "            print(f\"Data fetched successfully: {response}\")\n",
    "            return data\n",
    "        except (ConnectionError, Timeout, TooManyRedirects, Exception) as e:\n",
    "            print(f\"An error occurred: {e}\")\n",
    "            return None"
   ]
  },
  {
   "cell_type": "code",
   "execution_count": 9,
   "metadata": {},
   "outputs": [
    {
     "name": "stdout",
     "output_type": "stream",
     "text": [
      "DataIngestor\n",
      "DataIngestor initialized\n"
     ]
    }
   ],
   "source": [
    "ingestor = CoinMarketCapIngestor()"
   ]
  },
  {
   "cell_type": "code",
   "execution_count": 30,
   "metadata": {},
   "outputs": [
    {
     "name": "stdout",
     "output_type": "stream",
     "text": [
      "Fetching data from CoinMarketCap API\n",
      "Data fetched successfully: <Response [200]>\n"
     ]
    }
   ],
   "source": [
    "data = ingestor.fetch_data()"
   ]
  },
  {
   "cell_type": "code",
   "execution_count": 12,
   "metadata": {},
   "outputs": [
    {
     "data": {
      "text/plain": [
       "dict_keys(['status', 'data'])"
      ]
     },
     "execution_count": 12,
     "metadata": {},
     "output_type": "execute_result"
    }
   ],
   "source": [
    "data.keys()"
   ]
  },
  {
   "cell_type": "code",
   "execution_count": 17,
   "metadata": {},
   "outputs": [
    {
     "name": "stdout",
     "output_type": "stream",
     "text": [
      "<class 'dict'>\n",
      "<class 'list'>\n"
     ]
    }
   ],
   "source": [
    "for key in data.keys():\n",
    "    print(type(data[key]))"
   ]
  },
  {
   "cell_type": "code",
   "execution_count": 58,
   "metadata": {},
   "outputs": [
    {
     "data": {
      "text/plain": [
       "10"
      ]
     },
     "execution_count": 58,
     "metadata": {},
     "output_type": "execute_result"
    }
   ],
   "source": [
    "len(data[\"data\"])"
   ]
  },
  {
   "cell_type": "code",
   "execution_count": 57,
   "metadata": {},
   "outputs": [
    {
     "data": {
      "text/plain": [
       "dict_keys(['id', 'name', 'symbol', 'slug', 'cmc_rank', 'num_market_pairs', 'circulating_supply', 'total_supply', 'max_supply', 'infinite_supply', 'last_updated', 'date_added', 'tags', 'platform', 'self_reported_circulating_supply', 'self_reported_market_cap', 'quote'])"
      ]
     },
     "execution_count": 57,
     "metadata": {},
     "output_type": "execute_result"
    }
   ],
   "source": [
    "data[\"data\"][0].keys()"
   ]
  },
  {
   "cell_type": "code",
   "execution_count": 26,
   "metadata": {},
   "outputs": [
    {
     "data": {
      "text/html": [
       "<div>\n",
       "<style scoped>\n",
       "    .dataframe tbody tr th:only-of-type {\n",
       "        vertical-align: middle;\n",
       "    }\n",
       "\n",
       "    .dataframe tbody tr th {\n",
       "        vertical-align: top;\n",
       "    }\n",
       "\n",
       "    .dataframe thead th {\n",
       "        text-align: right;\n",
       "    }\n",
       "</style>\n",
       "<table border=\"1\" class=\"dataframe\">\n",
       "  <thead>\n",
       "    <tr style=\"text-align: right;\">\n",
       "      <th></th>\n",
       "      <th>id</th>\n",
       "      <th>name</th>\n",
       "      <th>symbol</th>\n",
       "      <th>slug</th>\n",
       "      <th>cmc_rank</th>\n",
       "      <th>num_market_pairs</th>\n",
       "      <th>circulating_supply</th>\n",
       "      <th>total_supply</th>\n",
       "      <th>max_supply</th>\n",
       "      <th>infinite_supply</th>\n",
       "      <th>last_updated</th>\n",
       "      <th>date_added</th>\n",
       "      <th>tags</th>\n",
       "      <th>platform</th>\n",
       "      <th>self_reported_circulating_supply</th>\n",
       "      <th>self_reported_market_cap</th>\n",
       "      <th>quote</th>\n",
       "    </tr>\n",
       "  </thead>\n",
       "  <tbody>\n",
       "    <tr>\n",
       "      <th>0</th>\n",
       "      <td>6815</td>\n",
       "      <td>3r3jkjygksg</td>\n",
       "      <td>urrlc86pk59</td>\n",
       "      <td>jer4ugvu3es</td>\n",
       "      <td>3818</td>\n",
       "      <td>9383</td>\n",
       "      <td>2450</td>\n",
       "      <td>8705</td>\n",
       "      <td>5186</td>\n",
       "      <td>None</td>\n",
       "      <td>2024-12-01T18:54:54.996Z</td>\n",
       "      <td>2024-12-01T18:54:54.996Z</td>\n",
       "      <td>[mzuyaubu4q, qoqanbdttg, wzyxhbnwhos, jxxnzwaj...</td>\n",
       "      <td>None</td>\n",
       "      <td>None</td>\n",
       "      <td>None</td>\n",
       "      <td>{'USD': {'price': 0.9316735000565917, 'volume_...</td>\n",
       "    </tr>\n",
       "    <tr>\n",
       "      <th>1</th>\n",
       "      <td>395</td>\n",
       "      <td>61k303y92wl</td>\n",
       "      <td>q21fogpxyy</td>\n",
       "      <td>o94zc9xtfq</td>\n",
       "      <td>4609</td>\n",
       "      <td>2068</td>\n",
       "      <td>1280</td>\n",
       "      <td>3129</td>\n",
       "      <td>2714</td>\n",
       "      <td>None</td>\n",
       "      <td>2024-12-01T18:54:54.996Z</td>\n",
       "      <td>2024-12-01T18:54:54.996Z</td>\n",
       "      <td>[7x49ln3cqb8, uf4mb51lqa, w1zzmxuxbce, ztcjmq2...</td>\n",
       "      <td>None</td>\n",
       "      <td>None</td>\n",
       "      <td>None</td>\n",
       "      <td>{'USD': {'price': 0.39270123064507567, 'volume...</td>\n",
       "    </tr>\n",
       "    <tr>\n",
       "      <th>2</th>\n",
       "      <td>7655</td>\n",
       "      <td>jxagndvl4e</td>\n",
       "      <td>3z8kft722uw</td>\n",
       "      <td>ujzqchvg0p</td>\n",
       "      <td>635</td>\n",
       "      <td>3948</td>\n",
       "      <td>1439</td>\n",
       "      <td>9856</td>\n",
       "      <td>3824</td>\n",
       "      <td>None</td>\n",
       "      <td>2024-12-01T18:54:54.996Z</td>\n",
       "      <td>2024-12-01T18:54:54.996Z</td>\n",
       "      <td>[os5uc1kqfx, ag6y7ovk4hp, rzok077wv09, 9f6nyio...</td>\n",
       "      <td>None</td>\n",
       "      <td>None</td>\n",
       "      <td>None</td>\n",
       "      <td>{'USD': {'price': 0.3937140643225703, 'volume_...</td>\n",
       "    </tr>\n",
       "    <tr>\n",
       "      <th>3</th>\n",
       "      <td>8634</td>\n",
       "      <td>5ewozk5zxyc</td>\n",
       "      <td>noeq981pwnd</td>\n",
       "      <td>e7vdlnpgioo</td>\n",
       "      <td>1241</td>\n",
       "      <td>9348</td>\n",
       "      <td>1208</td>\n",
       "      <td>6810</td>\n",
       "      <td>1470</td>\n",
       "      <td>None</td>\n",
       "      <td>2024-12-01T18:54:54.996Z</td>\n",
       "      <td>2024-12-01T18:54:54.996Z</td>\n",
       "      <td>[8zuy4vmmq2d, rvcfsgx8u5t, ltwf1tay7h, f2hyfex...</td>\n",
       "      <td>None</td>\n",
       "      <td>None</td>\n",
       "      <td>None</td>\n",
       "      <td>{'USD': {'price': 0.34509711706880397, 'volume...</td>\n",
       "    </tr>\n",
       "    <tr>\n",
       "      <th>4</th>\n",
       "      <td>1621</td>\n",
       "      <td>e1jgn8er30l</td>\n",
       "      <td>yh2y2o5bu8o</td>\n",
       "      <td>l1gsm2f570c</td>\n",
       "      <td>6372</td>\n",
       "      <td>6712</td>\n",
       "      <td>7682</td>\n",
       "      <td>4863</td>\n",
       "      <td>641</td>\n",
       "      <td>None</td>\n",
       "      <td>2024-12-01T18:54:54.996Z</td>\n",
       "      <td>2024-12-01T18:54:54.996Z</td>\n",
       "      <td>[800yoljsqgj, 4zapoz19ste, vt3ttv524ej, 5i2z4f...</td>\n",
       "      <td>None</td>\n",
       "      <td>None</td>\n",
       "      <td>None</td>\n",
       "      <td>{'USD': {'price': 0.8015683645864005, 'volume_...</td>\n",
       "    </tr>\n",
       "  </tbody>\n",
       "</table>\n",
       "</div>"
      ],
      "text/plain": [
       "     id         name       symbol         slug  cmc_rank  num_market_pairs  \\\n",
       "0  6815  3r3jkjygksg  urrlc86pk59  jer4ugvu3es      3818              9383   \n",
       "1   395  61k303y92wl   q21fogpxyy   o94zc9xtfq      4609              2068   \n",
       "2  7655   jxagndvl4e  3z8kft722uw   ujzqchvg0p       635              3948   \n",
       "3  8634  5ewozk5zxyc  noeq981pwnd  e7vdlnpgioo      1241              9348   \n",
       "4  1621  e1jgn8er30l  yh2y2o5bu8o  l1gsm2f570c      6372              6712   \n",
       "\n",
       "   circulating_supply  total_supply  max_supply infinite_supply  \\\n",
       "0                2450          8705        5186            None   \n",
       "1                1280          3129        2714            None   \n",
       "2                1439          9856        3824            None   \n",
       "3                1208          6810        1470            None   \n",
       "4                7682          4863         641            None   \n",
       "\n",
       "               last_updated                date_added  \\\n",
       "0  2024-12-01T18:54:54.996Z  2024-12-01T18:54:54.996Z   \n",
       "1  2024-12-01T18:54:54.996Z  2024-12-01T18:54:54.996Z   \n",
       "2  2024-12-01T18:54:54.996Z  2024-12-01T18:54:54.996Z   \n",
       "3  2024-12-01T18:54:54.996Z  2024-12-01T18:54:54.996Z   \n",
       "4  2024-12-01T18:54:54.996Z  2024-12-01T18:54:54.996Z   \n",
       "\n",
       "                                                tags platform  \\\n",
       "0  [mzuyaubu4q, qoqanbdttg, wzyxhbnwhos, jxxnzwaj...     None   \n",
       "1  [7x49ln3cqb8, uf4mb51lqa, w1zzmxuxbce, ztcjmq2...     None   \n",
       "2  [os5uc1kqfx, ag6y7ovk4hp, rzok077wv09, 9f6nyio...     None   \n",
       "3  [8zuy4vmmq2d, rvcfsgx8u5t, ltwf1tay7h, f2hyfex...     None   \n",
       "4  [800yoljsqgj, 4zapoz19ste, vt3ttv524ej, 5i2z4f...     None   \n",
       "\n",
       "  self_reported_circulating_supply self_reported_market_cap  \\\n",
       "0                             None                     None   \n",
       "1                             None                     None   \n",
       "2                             None                     None   \n",
       "3                             None                     None   \n",
       "4                             None                     None   \n",
       "\n",
       "                                               quote  \n",
       "0  {'USD': {'price': 0.9316735000565917, 'volume_...  \n",
       "1  {'USD': {'price': 0.39270123064507567, 'volume...  \n",
       "2  {'USD': {'price': 0.3937140643225703, 'volume_...  \n",
       "3  {'USD': {'price': 0.34509711706880397, 'volume...  \n",
       "4  {'USD': {'price': 0.8015683645864005, 'volume_...  "
      ]
     },
     "execution_count": 26,
     "metadata": {},
     "output_type": "execute_result"
    }
   ],
   "source": [
    "pd.DataFrame(data[\"data\"]).head()"
   ]
  },
  {
   "cell_type": "code",
   "execution_count": 46,
   "metadata": {},
   "outputs": [
    {
     "name": "stdout",
     "output_type": "stream",
     "text": [
      "Fetching data from CoinMarketCap API\n",
      "Data fetched successfully: <Response [200]>\n",
      "10\n"
     ]
    },
    {
     "ename": "TypeError",
     "evalue": "sequence item 0: expected str instance, float found",
     "output_type": "error",
     "traceback": [
      "\u001b[0;31m---------------------------------------------------------------------------\u001b[0m",
      "\u001b[0;31mTypeError\u001b[0m                                 Traceback (most recent call last)",
      "Cell \u001b[0;32mIn[46], line 5\u001b[0m\n\u001b[1;32m      3\u001b[0m \u001b[38;5;28mprint\u001b[39m(\u001b[38;5;28mlen\u001b[39m(data[\u001b[38;5;124m'\u001b[39m\u001b[38;5;124mdata\u001b[39m\u001b[38;5;124m'\u001b[39m]))\n\u001b[1;32m      4\u001b[0m \u001b[38;5;28;01mfor\u001b[39;00m i \u001b[38;5;129;01min\u001b[39;00m \u001b[38;5;28mrange\u001b[39m(\u001b[38;5;28mlen\u001b[39m(data[\u001b[38;5;124m\"\u001b[39m\u001b[38;5;124mdata\u001b[39m\u001b[38;5;124m\"\u001b[39m])):\n\u001b[0;32m----> 5\u001b[0m     \u001b[38;5;28mprint\u001b[39m(\u001b[38;5;124;43m\"\u001b[39;49m\u001b[38;5;124;43m\"\u001b[39;49m\u001b[38;5;241;43m.\u001b[39;49m\u001b[43mjoin\u001b[49m\u001b[43m(\u001b[49m\u001b[38;5;28;43mlist\u001b[39;49m\u001b[43m(\u001b[49m\u001b[43mdata\u001b[49m\u001b[43m[\u001b[49m\u001b[38;5;124;43m\"\u001b[39;49m\u001b[38;5;124;43mdata\u001b[39;49m\u001b[38;5;124;43m\"\u001b[39;49m\u001b[43m]\u001b[49m\u001b[43m[\u001b[49m\u001b[43mi\u001b[49m\u001b[43m]\u001b[49m\u001b[43m[\u001b[49m\u001b[38;5;124;43m\"\u001b[39;49m\u001b[38;5;124;43mquote\u001b[39;49m\u001b[38;5;124;43m\"\u001b[39;49m\u001b[43m]\u001b[49m\u001b[43m[\u001b[49m\u001b[38;5;124;43m\"\u001b[39;49m\u001b[38;5;124;43mUSD\u001b[39;49m\u001b[38;5;124;43m\"\u001b[39;49m\u001b[43m]\u001b[49m\u001b[38;5;241;43m.\u001b[39;49m\u001b[43mvalues\u001b[49m\u001b[43m(\u001b[49m\u001b[43m)\u001b[49m\u001b[43m)\u001b[49m\u001b[43m)\u001b[49m)\n\u001b[1;32m      6\u001b[0m time\u001b[38;5;241m.\u001b[39msleep(\u001b[38;5;241m5\u001b[39m)\n",
      "\u001b[0;31mTypeError\u001b[0m: sequence item 0: expected str instance, float found"
     ]
    }
   ],
   "source": [
    "while True:\n",
    "    data = ingestor.fetch_data()\n",
    "    print(len(data[\"data\"]))\n",
    "    for i in range(len(data[\"data\"])):\n",
    "        print(\"\".join(list(data[\"data\"][i][\"quote\"][\"USD\"].values())))\n",
    "    time.sleep(5)"
   ]
  },
  {
   "cell_type": "code",
   "execution_count": 74,
   "metadata": {},
   "outputs": [],
   "source": [
    "s = \"\"\n",
    "for i in list(data[\"data\"][0][\"quote\"][\"USD\"].values()):\n",
    "    s += rf\"{ {i} } \""
   ]
  },
  {
   "cell_type": "code",
   "execution_count": 75,
   "metadata": {},
   "outputs": [
    {
     "data": {
      "text/plain": [
       "\"{0.19984605551948165} {2153} {0.2787179068745387} {0.5606993435833614} {0.2139434805565712} {0.8195629606557195} {0.44857413595250994} {857} {0.11209255249181038} {'2024-12-01T19:51:45.101Z'} \""
      ]
     },
     "execution_count": 75,
     "metadata": {},
     "output_type": "execute_result"
    }
   ],
   "source": [
    "s"
   ]
  },
  {
   "cell_type": "code",
   "execution_count": null,
   "metadata": {},
   "outputs": [],
   "source": []
  }
 ],
 "metadata": {
  "kernelspec": {
   "display_name": "building-a-batch-etl-pipeline-redpanda-KlGOoUI0-py3.12",
   "language": "python",
   "name": "python3"
  },
  "language_info": {
   "codemirror_mode": {
    "name": "ipython",
    "version": 3
   },
   "file_extension": ".py",
   "mimetype": "text/x-python",
   "name": "python",
   "nbconvert_exporter": "python",
   "pygments_lexer": "ipython3",
   "version": "3.12.3"
  }
 },
 "nbformat": 4,
 "nbformat_minor": 2
}
